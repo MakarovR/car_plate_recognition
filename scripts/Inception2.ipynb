{
 "cells": [
  {
   "cell_type": "code",
   "execution_count": 1,
   "metadata": {},
   "outputs": [],
   "source": [
    "from tensorflow.python.keras.preprocessing.image import ImageDataGenerator\n",
    "from tensorflow.python.keras.models import Sequential\n",
    "from tensorflow.python.keras.layers import Conv2D, MaxPooling2D\n",
    "from tensorflow.python.keras.layers import Activation, Dropout, Flatten, Dense\n",
    "from PIL import Image\n",
    "from sklearn.preprocessing import LabelEncoder\n",
    "from tensorflow.python.keras.callbacks import TensorBoard"
   ]
  },
  {
   "cell_type": "code",
   "execution_count": 2,
   "metadata": {},
   "outputs": [],
   "source": [
    "tbCallBack = TensorBoard(log_dir='./In', histogram_freq=0, write_graph=True, write_images=True)\n",
    "train_dir = 'NewDataset/train'\n",
    "val_dir = 'NewDataset/val'\n",
    "img_width, img_height = 75, 75\n",
    "input_shape = (img_width, img_height, 3)\n",
    "epochs = 25\n",
    "batch_size = 16\n",
    "nb_train_samples = 145968\n",
    "nb_validation_samples = 21278\n",
    "#nb_test_samples = 1560"
   ]
  },
  {
   "cell_type": "code",
   "execution_count": 3,
   "metadata": {},
   "outputs": [],
   "source": [
    "datagen = ImageDataGenerator(rescale=1. / 255)"
   ]
  },
  {
   "cell_type": "code",
   "execution_count": 4,
   "metadata": {},
   "outputs": [
    {
     "name": "stdout",
     "output_type": "stream",
     "text": [
      "Found 145968 images belonging to 22 classes.\n"
     ]
    }
   ],
   "source": [
    "train_generator = datagen.flow_from_directory(\n",
    "    train_dir,\n",
    "    target_size=(img_width, img_height),\n",
    "    batch_size=batch_size,\n",
    "    class_mode= 'categorical')"
   ]
  },
  {
   "cell_type": "code",
   "execution_count": 5,
   "metadata": {},
   "outputs": [
    {
     "name": "stdout",
     "output_type": "stream",
     "text": [
      "Found 21278 images belonging to 22 classes.\n"
     ]
    }
   ],
   "source": [
    "val_generator = datagen.flow_from_directory(\n",
    "    val_dir,\n",
    "    target_size=(img_width, img_height),\n",
    "    batch_size=batch_size,\n",
    "    class_mode= 'categorical')"
   ]
  },
  {
   "cell_type": "code",
   "execution_count": 6,
   "metadata": {},
   "outputs": [],
   "source": [
    "from tensorflow.python.keras.models import Sequential\n",
    "from tensorflow.python.keras.models import Model\n",
    "from tensorflow.python.keras.callbacks import ModelCheckpoint, LearningRateScheduler, EarlyStopping, ReduceLROnPlateau, TensorBoard\n",
    "from tensorflow.python.keras import optimizers, losses, activations, models\n",
    "from tensorflow.python.keras.layers import Convolution2D, Dense, Input, Flatten, Dropout, MaxPooling2D, BatchNormalization, GlobalAveragePooling2D, Concatenate\n",
    "from tensorflow.python.keras import applications\n",
    "from tensorflow.python.keras.optimizers import Adam"
   ]
  },
  {
   "cell_type": "code",
   "execution_count": 7,
   "metadata": {},
   "outputs": [],
   "source": [
    "base_model = applications.InceptionV3(weights=None, \n",
    "                                include_top=False, \n",
    "                                input_shape=(75, 75,3))"
   ]
  },
  {
   "cell_type": "code",
   "execution_count": 8,
   "metadata": {},
   "outputs": [
    {
     "name": "stdout",
     "output_type": "stream",
     "text": [
      "_________________________________________________________________\n",
      "Layer (type)                 Output Shape              Param #   \n",
      "=================================================================\n",
      "inception_v3 (Model)         (None, 1, 1, 2048)        21802784  \n",
      "_________________________________________________________________\n",
      "flatten (Flatten)            (None, 2048)              0         \n",
      "_________________________________________________________________\n",
      "dense (Dense)                (None, 1024)              2098176   \n",
      "_________________________________________________________________\n",
      "activation_94 (Activation)   (None, 1024)              0         \n",
      "_________________________________________________________________\n",
      "dropout (Dropout)            (None, 1024)              0         \n",
      "_________________________________________________________________\n",
      "dense_1 (Dense)              (None, 22)                22550     \n",
      "_________________________________________________________________\n",
      "activation_95 (Activation)   (None, 22)                0         \n",
      "=================================================================\n",
      "Total params: 23,923,510\n",
      "Trainable params: 23,889,078\n",
      "Non-trainable params: 34,432\n",
      "_________________________________________________________________\n"
     ]
    }
   ],
   "source": [
    "base_model.trainable = True\n",
    "\n",
    "add_model = Sequential()\n",
    "add_model.add(base_model)\n",
    "add_model.add(Flatten())\n",
    "add_model.add(Dense(1024))\n",
    "add_model.add(Activation('relu'))\n",
    "add_model.add(Dropout(0.25))\n",
    "add_model.add(Dense(22))\n",
    "add_model.add(Activation('softmax'))#sigmoid\n",
    "\n",
    "model = add_model\n",
    "model.compile(loss='categorical_crossentropy',\n",
    "             optimizer=Adam(lr=1e-5), \n",
    "             metrics=['accuracy'])\n",
    "model.summary()"
   ]
  },
  {
   "cell_type": "code",
   "execution_count": null,
   "metadata": {},
   "outputs": [],
   "source": [
    "model.fit_generator(\n",
    "    train_generator,\n",
    "    steps_per_epoch=nb_train_samples // batch_size,\n",
    "    epochs=25,\n",
    "    validation_data=val_generator,\n",
    "    validation_steps=nb_validation_samples // batch_size,\n",
    "    callbacks=[tbCallBack])"
   ]
  },
  {
   "cell_type": "code",
   "execution_count": null,
   "metadata": {},
   "outputs": [],
   "source": [
    "from tensorflow.python.keras.preprocessing import image\n",
    "import numpy as np\n",
    "import matplotlib.pyplot as plt\n",
    "symb = ['0','1','2','3','4','5','6','7','8','9','A','B','C','E','H','K','M','P','T','X','У']\n",
    "image_file_name = '11111.png'\n",
    "img = image.load_img(image_file_name, target_size=(75, 75))\n",
    "img_array = image.img_to_array(img)\n",
    "img_array = np.expand_dims(img_array, axis=0)\n",
    "img_array /= 255.\n",
    "pred = model.predict(img_array).argmax()\n",
    "print(symb[pred])\n",
    "plt.imshow(img)"
   ]
  },
  {
   "cell_type": "code",
   "execution_count": 22,
   "metadata": {},
   "outputs": [
    {
     "name": "stdout",
     "output_type": "stream",
     "text": [
      "Сохранение\n"
     ]
    }
   ],
   "source": [
    "print(\"Сохранение\")\n",
    "model_json = model.to_json()\n",
    "json_file = open(\"NewDatIncept.json\",\"w\")\n",
    "json_file.write(model_json)\n",
    "json_file.close()\n",
    "model.save_weights(\"NewDatIncept.h5\")"
   ]
  },
  {
   "cell_type": "code",
   "execution_count": null,
   "metadata": {},
   "outputs": [],
   "source": [
    "base_model.summary()"
   ]
  },
  {
   "cell_type": "code",
   "execution_count": 21,
   "metadata": {},
   "outputs": [
    {
     "data": {
      "text/plain": [
       "<matplotlib.image.AxesImage at 0x20132091358>"
      ]
     },
     "execution_count": 21,
     "metadata": {},
     "output_type": "execute_result"
    },
    {
     "data": {
      "image/png": "[encoded data removed]",
      "text/plain": [
       "<Figure size 432x288 with 3 Axes>"
      ]
     },
     "metadata": {
      "needs_background": "light"
     },
     "output_type": "display_data"
    },
    {
     "data": {
      "image/png": "[encoded data removed]",
      "text/plain": [
       "<Figure size 432x288 with 3 Axes>"
      ]
     },
     "metadata": {
      "needs_background": "light"
     },
     "output_type": "display_data"
    },
    {
     "data": {
      "image/png": "[encoded data removed]",
      "text/plain": [
       "<Figure size 432x288 with 3 Axes>"
      ]
     },
     "metadata": {
      "needs_background": "light"
     },
     "output_type": "display_data"
    },
    {
     "data": {
      "image/png": "[encoded data removed]",
      "text/plain": [
       "<Figure size 432x288 with 3 Axes>"
      ]
     },
     "metadata": {
      "needs_background": "light"
     },
     "output_type": "display_data"
    },
    {
     "data": {
      "image/png": "[encoded data removed]",
      "text/plain": [
       "<Figure size 432x288 with 3 Axes>"
      ]
     },
     "metadata": {
      "needs_background": "light"
     },
     "output_type": "display_data"
    },
    {
     "data": {
      "image/png": "[encoded data removed]",
      "text/plain": [
       "<Figure size 432x288 with 3 Axes>"
      ]
     },
     "metadata": {
      "needs_background": "light"
     },
     "output_type": "display_data"
    }
   ],
   "source": [
    "from tensorflow.python.keras.preprocessing import image\n",
    "import numpy as np\n",
    "import matplotlib.pyplot as plt\n",
    "symb = ['0','1','2','3','4','5','6','7','8','9','A','B','C','E','H','K','M','P','T','X','У','*']\n",
    "image_file_name = '1.png'\n",
    "img = image.load_img(image_file_name, target_size=(75, 75))\n",
    "image_file_name1 = '2.png'\n",
    "img1 = image.load_img(image_file_name1, target_size=(75, 75))\n",
    "image_file_name2 = '3.png'\n",
    "img2 = image.load_img(image_file_name2, target_size=(75, 75))\n",
    "image_file_name3 = '4.png'\n",
    "img3 = image.load_img(image_file_name3, target_size=(75, 75))\n",
    "image_file_name4 = '10.png'\n",
    "img4 = image.load_img(image_file_name4, target_size=(75, 75))\n",
    "image_file_name5 = '5.png'\n",
    "img5 = image.load_img(image_file_name5, target_size=(75, 75))\n",
    "img_array = image.img_to_array(img)\n",
    "img_array = np.expand_dims(img_array, axis=0)\n",
    "img_array /= 255.\n",
    "img_array1 = image.img_to_array(img1)\n",
    "img_array1 = np.expand_dims(img_array1, axis=0)\n",
    "img_array1 /= 255.\n",
    "img_array2 = image.img_to_array(img2)\n",
    "img_array2 = np.expand_dims(img_array2, axis=0)\n",
    "img_array2 /= 255.\n",
    "img_array3 = image.img_to_array(img3)\n",
    "img_array3 = np.expand_dims(img_array3, axis=0)\n",
    "img_array3 /= 255.\n",
    "img_array4 = image.img_to_array(img4)\n",
    "img_array4 = np.expand_dims(img_array4, axis=0)\n",
    "img_array4 /= 255.\n",
    "img_array5 = image.img_to_array(img5)\n",
    "img_array5 = np.expand_dims(img_array5, axis=0)\n",
    "img_array5 /= 255.\n",
    "#pred = model.predict(img_array).argmax()\n",
    "#print(symb[pred])\n",
    "#fig, axs = plt.subplots(2, 3, figsize=(20, 20))\n",
    "#axs[0].imshow(img)\n",
    "#axs[1].imshow(img1)\n",
    "fig, (ax1) = plt.subplots(1,3)\n",
    "pred = model.predict(img_array).argmax()\n",
    "ax1[0].set_title(symb[pred])\n",
    "ax1[0].imshow(img)\n",
    "pred1 = model.predict(img_array1).argmax()\n",
    "ax1[1].set_title(symb[pred1])\n",
    "ax1[1].imshow(img1)\n",
    "pred2 = model.predict(img_array2).argmax()\n",
    "ax1[2].set_title(symb[pred2])\n",
    "ax1[2].imshow(img2)\n",
    "fig, (ax2) = plt.subplots(1,3)\n",
    "pred3 = model.predict(img_array3).argmax()\n",
    "ax2[0].set_title(symb[pred3])\n",
    "ax2[0].imshow(img3)\n",
    "pred4 = model.predict(img_array4).argmax()\n",
    "ax2[1].set_title(symb[pred4])\n",
    "ax2[1].imshow(img4)\n",
    "pred5 = model.predict(img_array5).argmax()\n",
    "ax2[2].set_title(symb[pred5])\n",
    "ax2[2].imshow(img5)\n",
    "image_file_name = '111.png'\n",
    "img = image.load_img(image_file_name, target_size=(75, 75))\n",
    "image_file_name1 = '11111.png'\n",
    "img1 = image.load_img(image_file_name1, target_size=(75, 75))\n",
    "image_file_name2 = '888.png'\n",
    "img2 = image.load_img(image_file_name2, target_size=(75, 75))\n",
    "image_file_name3 = '999.png'\n",
    "img3 = image.load_img(image_file_name3, target_size=(75, 75))\n",
    "image_file_name4 = '8888.png'\n",
    "img4 = image.load_img(image_file_name4, target_size=(75, 75))\n",
    "image_file_name5 = '9999.png'\n",
    "img5 = image.load_img(image_file_name5, target_size=(75, 75))\n",
    "img_array = image.img_to_array(img)\n",
    "img_array = np.expand_dims(img_array, axis=0)\n",
    "img_array /= 255.\n",
    "img_array1 = image.img_to_array(img1)\n",
    "img_array1 = np.expand_dims(img_array1, axis=0)\n",
    "img_array1 /= 255.\n",
    "img_array2 = image.img_to_array(img2)\n",
    "img_array2 = np.expand_dims(img_array2, axis=0)\n",
    "img_array2 /= 255.\n",
    "img_array3 = image.img_to_array(img3)\n",
    "img_array3 = np.expand_dims(img_array3, axis=0)\n",
    "img_array3 /= 255.\n",
    "img_array4 = image.img_to_array(img4)\n",
    "img_array4 = np.expand_dims(img_array4, axis=0)\n",
    "img_array4 /= 255.\n",
    "img_array5 = image.img_to_array(img5)\n",
    "img_array5 = np.expand_dims(img_array5, axis=0)\n",
    "img_array5 /= 255.\n",
    "#pred = model.predict(img_array).argmax()\n",
    "#print(symb[pred])\n",
    "#fig, axs = plt.subplots(2, 3, figsize=(20, 20))\n",
    "#axs[0].imshow(img)\n",
    "#axs[1].imshow(img1)\n",
    "fig, (ax1) = plt.subplots(1,3)\n",
    "pred = model.predict(img_array).argmax()\n",
    "ax1[0].set_title(symb[pred])\n",
    "ax1[0].imshow(img)\n",
    "pred1 = model.predict(img_array1).argmax()\n",
    "ax1[1].set_title(symb[pred1])\n",
    "ax1[1].imshow(img1)\n",
    "pred2 = model.predict(img_array2).argmax()\n",
    "ax1[2].set_title(symb[pred2])\n",
    "ax1[2].imshow(img2)\n",
    "fig, (ax2) = plt.subplots(1,3)\n",
    "pred3 = model.predict(img_array3).argmax()\n",
    "ax2[0].set_title(symb[pred3])\n",
    "ax2[0].imshow(img3)\n",
    "pred4 = model.predict(img_array4).argmax()\n",
    "ax2[1].set_title(symb[pred4])\n",
    "ax2[1].imshow(img4)\n",
    "pred5 = model.predict(img_array5).argmax()\n",
    "ax2[2].set_title(symb[pred5])\n",
    "ax2[2].imshow(img5)\n",
    "image_file_name = '7.png'\n",
    "img = image.load_img(image_file_name, target_size=(75, 75))\n",
    "image_file_name1 = '8.png'\n",
    "img1 = image.load_img(image_file_name1, target_size=(75, 75))\n",
    "image_file_name2 = '9.png'\n",
    "img2 = image.load_img(image_file_name2, target_size=(75, 75))\n",
    "image_file_name3 = 'musor4.png'\n",
    "img3 = image.load_img(image_file_name3, target_size=(75, 75))\n",
    "image_file_name4 = 'musor1.png'\n",
    "img4 = image.load_img(image_file_name4, target_size=(75, 75))\n",
    "image_file_name5 = 'musor3.png'\n",
    "img5 = image.load_img(image_file_name5, target_size=(75, 75))\n",
    "img_array = image.img_to_array(img)\n",
    "img_array = np.expand_dims(img_array, axis=0)\n",
    "img_array /= 255.\n",
    "img_array1 = image.img_to_array(img1)\n",
    "img_array1 = np.expand_dims(img_array1, axis=0)\n",
    "img_array1 /= 255.\n",
    "img_array2 = image.img_to_array(img2)\n",
    "img_array2 = np.expand_dims(img_array2, axis=0)\n",
    "img_array2 /= 255.\n",
    "img_array3 = image.img_to_array(img3)\n",
    "img_array3 = np.expand_dims(img_array3, axis=0)\n",
    "img_array3 /= 255.\n",
    "img_array4 = image.img_to_array(img4)\n",
    "img_array4 = np.expand_dims(img_array4, axis=0)\n",
    "img_array4 /= 255.\n",
    "img_array5 = image.img_to_array(img5)\n",
    "img_array5 = np.expand_dims(img_array5, axis=0)\n",
    "img_array5 /= 255.\n",
    "#pred = model.predict(img_array).argmax()\n",
    "#print(symb[pred])\n",
    "#fig, axs = plt.subplots(2, 3, figsize=(20, 20))\n",
    "#axs[0].imshow(img)\n",
    "#axs[1].imshow(img1)\n",
    "fig, (ax1) = plt.subplots(1,3)\n",
    "pred = model.predict(img_array).argmax()\n",
    "ax1[0].set_title(symb[pred])\n",
    "ax1[0].imshow(img)\n",
    "pred1 = model.predict(img_array1).argmax()\n",
    "ax1[1].set_title(symb[pred1])\n",
    "ax1[1].imshow(img1)\n",
    "pred2 = model.predict(img_array2).argmax()\n",
    "ax1[2].set_title(symb[pred2])\n",
    "ax1[2].imshow(img2)\n",
    "fig, (ax2) = plt.subplots(1,3)\n",
    "pred3 = model.predict(img_array3).argmax()\n",
    "ax2[0].set_title(symb[pred3])\n",
    "ax2[0].imshow(img3)\n",
    "pred4 = model.predict(img_array4).argmax()\n",
    "ax2[1].set_title(symb[pred4])\n",
    "ax2[1].imshow(img4)\n",
    "pred5 = model.predict(img_array5).argmax()\n",
    "ax2[2].set_title(symb[pred5])\n",
    "ax2[2].imshow(img5)\n",
    "#plt.imshow(img)\n",
    "#print(model.predict(img_array5))"
   ]
  }
 ],
 "metadata": {
  "kernelspec": {
   "display_name": "Python 3",
   "language": "python",
   "name": "python3"
  },
  "language_info": {
   "codemirror_mode": {
    "name": "ipython",
    "version": 3
   },
   "file_extension": ".py",
   "mimetype": "text/x-python",
   "name": "python",
   "nbconvert_exporter": "python",
   "pygments_lexer": "ipython3",
   "version": "3.6.7"
  }
 },
 "nbformat": 4,
 "nbformat_minor": 2
}
